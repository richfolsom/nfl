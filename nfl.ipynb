{
 "cells": [
  {
   "cell_type": "code",
   "execution_count": 1,
   "metadata": {},
   "outputs": [],
   "source": [
    "import pandas as pd\n",
    "import matplotlib\n",
    "from sklearn import preprocessing\n",
    "from sklearn import model_selection\n",
    "%matplotlib inline"
   ]
  },
  {
   "cell_type": "code",
   "execution_count": 2,
   "metadata": {},
   "outputs": [
    {
     "name": "stderr",
     "output_type": "stream",
     "text": [
      "/home/rich/anaconda3/lib/python3.7/site-packages/IPython/core/interactiveshell.py:3020: DtypeWarning: Columns (42,166,167,168,169,174,175,178,179,182,183,188,189,190,191,194,195,203,204,205,218,219,220,231,232,233,238,240,241,249) have mixed types. Specify dtype option on import or set low_memory=False.\n",
      "  interactivity=interactivity, compiler=compiler, result=result)\n"
     ]
    },
    {
     "data": {
      "text/plain": [
       "(449371, 255)"
      ]
     },
     "execution_count": 2,
     "metadata": {},
     "output_type": "execute_result"
    }
   ],
   "source": [
    "df = pd.read_csv('/home/rich/src/data/nfl_plays.csv')\n",
    "df.shape"
   ]
  },
  {
   "cell_type": "code",
   "execution_count": 3,
   "metadata": {},
   "outputs": [
    {
     "data": {
      "text/html": [
       "<div>\n",
       "<style scoped>\n",
       "    .dataframe tbody tr th:only-of-type {\n",
       "        vertical-align: middle;\n",
       "    }\n",
       "\n",
       "    .dataframe tbody tr th {\n",
       "        vertical-align: top;\n",
       "    }\n",
       "\n",
       "    .dataframe thead th {\n",
       "        text-align: right;\n",
       "    }\n",
       "</style>\n",
       "<table border=\"1\" class=\"dataframe\">\n",
       "  <thead>\n",
       "    <tr style=\"text-align: right;\">\n",
       "      <th></th>\n",
       "      <th>game_seconds_remaining</th>\n",
       "      <th>yardline_100</th>\n",
       "      <th>down</th>\n",
       "      <th>ydstogo</th>\n",
       "      <th>shotgun</th>\n",
       "      <th>score_differential</th>\n",
       "      <th>play_type</th>\n",
       "      <th>pass_length</th>\n",
       "      <th>pass_location</th>\n",
       "      <th>run_location</th>\n",
       "    </tr>\n",
       "  </thead>\n",
       "  <tbody>\n",
       "    <tr>\n",
       "      <th>2390</th>\n",
       "      <td>3592.0</td>\n",
       "      <td>49.0</td>\n",
       "      <td>1.0</td>\n",
       "      <td>10</td>\n",
       "      <td>0</td>\n",
       "      <td>0.0</td>\n",
       "      <td>pass</td>\n",
       "      <td>short</td>\n",
       "      <td>right</td>\n",
       "      <td>NaN</td>\n",
       "    </tr>\n",
       "    <tr>\n",
       "      <th>2391</th>\n",
       "      <td>3587.0</td>\n",
       "      <td>49.0</td>\n",
       "      <td>2.0</td>\n",
       "      <td>10</td>\n",
       "      <td>0</td>\n",
       "      <td>0.0</td>\n",
       "      <td>run</td>\n",
       "      <td>NaN</td>\n",
       "      <td>NaN</td>\n",
       "      <td>right</td>\n",
       "    </tr>\n",
       "    <tr>\n",
       "      <th>2392</th>\n",
       "      <td>3543.0</td>\n",
       "      <td>46.0</td>\n",
       "      <td>3.0</td>\n",
       "      <td>7</td>\n",
       "      <td>1</td>\n",
       "      <td>0.0</td>\n",
       "      <td>pass</td>\n",
       "      <td>short</td>\n",
       "      <td>middle</td>\n",
       "      <td>NaN</td>\n",
       "    </tr>\n",
       "    <tr>\n",
       "      <th>2393</th>\n",
       "      <td>3519.0</td>\n",
       "      <td>40.0</td>\n",
       "      <td>4.0</td>\n",
       "      <td>1</td>\n",
       "      <td>0</td>\n",
       "      <td>0.0</td>\n",
       "      <td>run</td>\n",
       "      <td>NaN</td>\n",
       "      <td>NaN</td>\n",
       "      <td>left</td>\n",
       "    </tr>\n",
       "    <tr>\n",
       "      <th>2399</th>\n",
       "      <td>3434.0</td>\n",
       "      <td>83.0</td>\n",
       "      <td>1.0</td>\n",
       "      <td>10</td>\n",
       "      <td>1</td>\n",
       "      <td>0.0</td>\n",
       "      <td>run</td>\n",
       "      <td>NaN</td>\n",
       "      <td>NaN</td>\n",
       "      <td>middle</td>\n",
       "    </tr>\n",
       "  </tbody>\n",
       "</table>\n",
       "</div>"
      ],
      "text/plain": [
       "      game_seconds_remaining  yardline_100  down  ydstogo  shotgun  \\\n",
       "2390                  3592.0          49.0   1.0       10        0   \n",
       "2391                  3587.0          49.0   2.0       10        0   \n",
       "2392                  3543.0          46.0   3.0        7        1   \n",
       "2393                  3519.0          40.0   4.0        1        0   \n",
       "2399                  3434.0          83.0   1.0       10        1   \n",
       "\n",
       "      score_differential play_type pass_length pass_location run_location  \n",
       "2390                 0.0      pass       short         right          NaN  \n",
       "2391                 0.0       run         NaN           NaN        right  \n",
       "2392                 0.0      pass       short        middle          NaN  \n",
       "2393                 0.0       run         NaN           NaN         left  \n",
       "2399                 0.0       run         NaN           NaN       middle  "
      ]
     },
     "execution_count": 3,
     "metadata": {},
     "output_type": "execute_result"
    }
   ],
   "source": [
    "nedf = df[(df.posteam=='NE') & (df.down.isin([1.0, 2.0, 3.0, 4.0])) & ((df.play_type=='run') | (df.play_type == 'pass'))]\n",
    "nedf.groupby('play_type').count()[['play_id']]\n",
    "del df\n",
    "nedf = nedf[['game_seconds_remaining', 'yardline_100', 'down', 'ydstogo', 'shotgun', 'score_differential', 'play_type', 'pass_length', 'pass_location', 'run_location']]\n",
    "nedf.head()"
   ]
  },
  {
   "cell_type": "code",
   "execution_count": 4,
   "metadata": {},
   "outputs": [
    {
     "data": {
      "text/html": [
       "<div>\n",
       "<style scoped>\n",
       "    .dataframe tbody tr th:only-of-type {\n",
       "        vertical-align: middle;\n",
       "    }\n",
       "\n",
       "    .dataframe tbody tr th {\n",
       "        vertical-align: top;\n",
       "    }\n",
       "\n",
       "    .dataframe thead th {\n",
       "        text-align: right;\n",
       "    }\n",
       "</style>\n",
       "<table border=\"1\" class=\"dataframe\">\n",
       "  <thead>\n",
       "    <tr style=\"text-align: right;\">\n",
       "      <th></th>\n",
       "      <th>game_seconds_remaining</th>\n",
       "      <th>yardline_100</th>\n",
       "      <th>down</th>\n",
       "      <th>ydstogo</th>\n",
       "      <th>shotgun</th>\n",
       "      <th>score_differential</th>\n",
       "      <th>play_type</th>\n",
       "      <th>pass_length</th>\n",
       "      <th>pass_location</th>\n",
       "      <th>run_location</th>\n",
       "      <th>full_play_type</th>\n",
       "    </tr>\n",
       "  </thead>\n",
       "  <tbody>\n",
       "    <tr>\n",
       "      <th>2390</th>\n",
       "      <td>3592.0</td>\n",
       "      <td>49.0</td>\n",
       "      <td>1.0</td>\n",
       "      <td>10</td>\n",
       "      <td>0</td>\n",
       "      <td>0.0</td>\n",
       "      <td>pass</td>\n",
       "      <td>short</td>\n",
       "      <td>right</td>\n",
       "      <td>unknown</td>\n",
       "      <td>pass_right</td>\n",
       "    </tr>\n",
       "    <tr>\n",
       "      <th>2391</th>\n",
       "      <td>3587.0</td>\n",
       "      <td>49.0</td>\n",
       "      <td>2.0</td>\n",
       "      <td>10</td>\n",
       "      <td>0</td>\n",
       "      <td>0.0</td>\n",
       "      <td>run</td>\n",
       "      <td>unknown</td>\n",
       "      <td>unknown</td>\n",
       "      <td>right</td>\n",
       "      <td>run_right</td>\n",
       "    </tr>\n",
       "    <tr>\n",
       "      <th>2392</th>\n",
       "      <td>3543.0</td>\n",
       "      <td>46.0</td>\n",
       "      <td>3.0</td>\n",
       "      <td>7</td>\n",
       "      <td>1</td>\n",
       "      <td>0.0</td>\n",
       "      <td>pass</td>\n",
       "      <td>short</td>\n",
       "      <td>middle</td>\n",
       "      <td>unknown</td>\n",
       "      <td>pass_middle</td>\n",
       "    </tr>\n",
       "    <tr>\n",
       "      <th>2393</th>\n",
       "      <td>3519.0</td>\n",
       "      <td>40.0</td>\n",
       "      <td>4.0</td>\n",
       "      <td>1</td>\n",
       "      <td>0</td>\n",
       "      <td>0.0</td>\n",
       "      <td>run</td>\n",
       "      <td>unknown</td>\n",
       "      <td>unknown</td>\n",
       "      <td>left</td>\n",
       "      <td>run_left</td>\n",
       "    </tr>\n",
       "    <tr>\n",
       "      <th>2399</th>\n",
       "      <td>3434.0</td>\n",
       "      <td>83.0</td>\n",
       "      <td>1.0</td>\n",
       "      <td>10</td>\n",
       "      <td>1</td>\n",
       "      <td>0.0</td>\n",
       "      <td>run</td>\n",
       "      <td>unknown</td>\n",
       "      <td>unknown</td>\n",
       "      <td>middle</td>\n",
       "      <td>run_middle</td>\n",
       "    </tr>\n",
       "  </tbody>\n",
       "</table>\n",
       "</div>"
      ],
      "text/plain": [
       "      game_seconds_remaining  yardline_100  down  ydstogo  shotgun  \\\n",
       "2390                  3592.0          49.0   1.0       10        0   \n",
       "2391                  3587.0          49.0   2.0       10        0   \n",
       "2392                  3543.0          46.0   3.0        7        1   \n",
       "2393                  3519.0          40.0   4.0        1        0   \n",
       "2399                  3434.0          83.0   1.0       10        1   \n",
       "\n",
       "      score_differential play_type pass_length pass_location run_location  \\\n",
       "2390                 0.0      pass       short         right      unknown   \n",
       "2391                 0.0       run     unknown       unknown        right   \n",
       "2392                 0.0      pass       short        middle      unknown   \n",
       "2393                 0.0       run     unknown       unknown         left   \n",
       "2399                 0.0       run     unknown       unknown       middle   \n",
       "\n",
       "     full_play_type  \n",
       "2390     pass_right  \n",
       "2391      run_right  \n",
       "2392    pass_middle  \n",
       "2393       run_left  \n",
       "2399     run_middle  "
      ]
     },
     "execution_count": 4,
     "metadata": {},
     "output_type": "execute_result"
    }
   ],
   "source": [
    "import numpy as np\n",
    "def get_full_play_type(play):\n",
    "    play_type, pass_length, pass_location, run_location = play\n",
    "    if(play_type == 'run'):\n",
    "        return play_type+'_'+run_location\n",
    "    else:\n",
    "        return play_type+'_'+pass_location\n",
    "nedf = nedf.replace(np.nan, 'unknown', regex=True)    \n",
    "nedf['full_play_type'] = nedf[['play_type', 'pass_length', 'pass_location', 'run_location']].apply(get_full_play_type, axis=1)    \n",
    "nedf = nedf[(nedf.full_play_type.isin(['pass_left', 'pass_middle','pass_right','run_left', 'run_middle', 'run_right']))]\n",
    "nedf.head()"
   ]
  },
  {
   "cell_type": "code",
   "execution_count": 5,
   "metadata": {},
   "outputs": [
    {
     "data": {
      "text/html": [
       "<div>\n",
       "<style scoped>\n",
       "    .dataframe tbody tr th:only-of-type {\n",
       "        vertical-align: middle;\n",
       "    }\n",
       "\n",
       "    .dataframe tbody tr th {\n",
       "        vertical-align: top;\n",
       "    }\n",
       "\n",
       "    .dataframe thead th {\n",
       "        text-align: right;\n",
       "    }\n",
       "</style>\n",
       "<table border=\"1\" class=\"dataframe\">\n",
       "  <thead>\n",
       "    <tr style=\"text-align: right;\">\n",
       "      <th></th>\n",
       "      <th>play_type</th>\n",
       "    </tr>\n",
       "    <tr>\n",
       "      <th>full_play_type</th>\n",
       "      <th></th>\n",
       "    </tr>\n",
       "  </thead>\n",
       "  <tbody>\n",
       "    <tr>\n",
       "      <th>pass_left</th>\n",
       "      <td>2360</td>\n",
       "    </tr>\n",
       "    <tr>\n",
       "      <th>pass_middle</th>\n",
       "      <td>1578</td>\n",
       "    </tr>\n",
       "    <tr>\n",
       "      <th>pass_right</th>\n",
       "      <td>1927</td>\n",
       "    </tr>\n",
       "    <tr>\n",
       "      <th>run_left</th>\n",
       "      <td>1715</td>\n",
       "    </tr>\n",
       "    <tr>\n",
       "      <th>run_middle</th>\n",
       "      <td>1223</td>\n",
       "    </tr>\n",
       "    <tr>\n",
       "      <th>run_right</th>\n",
       "      <td>1396</td>\n",
       "    </tr>\n",
       "  </tbody>\n",
       "</table>\n",
       "</div>"
      ],
      "text/plain": [
       "                play_type\n",
       "full_play_type           \n",
       "pass_left            2360\n",
       "pass_middle          1578\n",
       "pass_right           1927\n",
       "run_left             1715\n",
       "run_middle           1223\n",
       "run_right            1396"
      ]
     },
     "execution_count": 5,
     "metadata": {},
     "output_type": "execute_result"
    }
   ],
   "source": [
    "nedf.groupby(['full_play_type']).count()[['play_type']]"
   ]
  },
  {
   "cell_type": "code",
   "execution_count": 6,
   "metadata": {},
   "outputs": [
    {
     "data": {
      "text/plain": [
       "<matplotlib.axes._subplots.AxesSubplot at 0x7ff03e53ee48>"
      ]
     },
     "execution_count": 6,
     "metadata": {},
     "output_type": "execute_result"
    },
    {
     "data": {
      "image/png": "[encoded data removed]",
      "text/plain": [
       "<Figure size 432x288 with 1 Axes>"
      ]
     },
     "metadata": {
      "needs_background": "light"
     },
     "output_type": "display_data"
    }
   ],
   "source": [
    "nedf.groupby(['full_play_type']).count()[['play_type']].plot(kind='bar')\n"
   ]
  },
  {
   "cell_type": "code",
   "execution_count": 7,
   "metadata": {},
   "outputs": [
    {
     "data": {
      "text/html": [
       "<div>\n",
       "<style scoped>\n",
       "    .dataframe tbody tr th:only-of-type {\n",
       "        vertical-align: middle;\n",
       "    }\n",
       "\n",
       "    .dataframe tbody tr th {\n",
       "        vertical-align: top;\n",
       "    }\n",
       "\n",
       "    .dataframe thead th {\n",
       "        text-align: right;\n",
       "    }\n",
       "</style>\n",
       "<table border=\"1\" class=\"dataframe\">\n",
       "  <thead>\n",
       "    <tr style=\"text-align: right;\">\n",
       "      <th></th>\n",
       "      <th>play_type</th>\n",
       "    </tr>\n",
       "    <tr>\n",
       "      <th>full_play_type</th>\n",
       "      <th></th>\n",
       "    </tr>\n",
       "  </thead>\n",
       "  <tbody>\n",
       "    <tr>\n",
       "      <th>pass_left</th>\n",
       "      <td>23.139523</td>\n",
       "    </tr>\n",
       "    <tr>\n",
       "      <th>pass_middle</th>\n",
       "      <td>15.472105</td>\n",
       "    </tr>\n",
       "    <tr>\n",
       "      <th>pass_right</th>\n",
       "      <td>18.894009</td>\n",
       "    </tr>\n",
       "    <tr>\n",
       "      <th>run_left</th>\n",
       "      <td>16.815374</td>\n",
       "    </tr>\n",
       "    <tr>\n",
       "      <th>run_middle</th>\n",
       "      <td>11.991372</td>\n",
       "    </tr>\n",
       "    <tr>\n",
       "      <th>run_right</th>\n",
       "      <td>13.687616</td>\n",
       "    </tr>\n",
       "  </tbody>\n",
       "</table>\n",
       "</div>"
      ],
      "text/plain": [
       "                play_type\n",
       "full_play_type           \n",
       "pass_left       23.139523\n",
       "pass_middle     15.472105\n",
       "pass_right      18.894009\n",
       "run_left        16.815374\n",
       "run_middle      11.991372\n",
       "run_right       13.687616"
      ]
     },
     "execution_count": 7,
     "metadata": {},
     "output_type": "execute_result"
    }
   ],
   "source": [
    "nedf.groupby(['full_play_type']).count()[['play_type']].apply(lambda x:100 * x / float(x.sum()))"
   ]
  },
  {
   "cell_type": "code",
   "execution_count": 8,
   "metadata": {},
   "outputs": [
    {
     "data": {
      "text/plain": [
       "<matplotlib.axes._subplots.AxesSubplot at 0x7ff03e7f93c8>"
      ]
     },
     "execution_count": 8,
     "metadata": {},
     "output_type": "execute_result"
    },
    {
     "data": {
      "image/png": "[encoded data removed]",
      "text/plain": [
       "<Figure size 432x288 with 1 Axes>"
      ]
     },
     "metadata": {
      "needs_background": "light"
     },
     "output_type": "display_data"
    }
   ],
   "source": [
    "le = preprocessing.LabelEncoder()\n",
    "le.fit(nedf.full_play_type)\n",
    "nedf['full_play_type_code'] = le.transform(nedf['full_play_type'])\n",
    "nedf.groupby(['full_play_type_code']).count()[['down']].plot(kind='bar')"
   ]
  },
  {
   "cell_type": "code",
   "execution_count": 9,
   "metadata": {},
   "outputs": [],
   "source": [
    "def bucketize(val, size, count):\n",
    "    i=0\n",
    "    for i in range(count):\n",
    "        if val <= (i+1)*size:\n",
    "            return i\n",
    "    return i\n",
    "\n",
    "def bucketize_df(df):\n",
    "    df['ydstogo'] = [bucketize(x, 4, 5) for x in df['ydstogo']]\n",
    "    return df\n",
    "\n",
    "nedf = bucketize_df(nedf)"
   ]
  },
  {
   "cell_type": "code",
   "execution_count": 11,
   "metadata": {},
   "outputs": [],
   "source": [
    "nedf = pd.concat([nedf, pd.get_dummies(nedf['down'], prefix='down')], axis=1)\n",
    "nedf = pd.concat([nedf, pd.get_dummies(nedf['ydstogo'], prefix='ydstogo')], axis=1)"
   ]
  },
  {
   "cell_type": "code",
   "execution_count": 12,
   "metadata": {},
   "outputs": [
    {
     "data": {
      "text/html": [
       "<div>\n",
       "<style scoped>\n",
       "    .dataframe tbody tr th:only-of-type {\n",
       "        vertical-align: middle;\n",
       "    }\n",
       "\n",
       "    .dataframe tbody tr th {\n",
       "        vertical-align: top;\n",
       "    }\n",
       "\n",
       "    .dataframe thead th {\n",
       "        text-align: right;\n",
       "    }\n",
       "</style>\n",
       "<table border=\"1\" class=\"dataframe\">\n",
       "  <thead>\n",
       "    <tr style=\"text-align: right;\">\n",
       "      <th></th>\n",
       "      <th>game_seconds_remaining</th>\n",
       "      <th>yardline_100</th>\n",
       "      <th>down</th>\n",
       "      <th>ydstogo</th>\n",
       "      <th>shotgun</th>\n",
       "      <th>score_differential</th>\n",
       "      <th>full_play_type_code</th>\n",
       "      <th>down_1.0</th>\n",
       "      <th>down_2.0</th>\n",
       "      <th>down_3.0</th>\n",
       "      <th>down_4.0</th>\n",
       "      <th>ydstogo_0</th>\n",
       "      <th>ydstogo_1</th>\n",
       "      <th>ydstogo_2</th>\n",
       "      <th>ydstogo_3</th>\n",
       "      <th>ydstogo_4</th>\n",
       "    </tr>\n",
       "  </thead>\n",
       "  <tbody>\n",
       "    <tr>\n",
       "      <th>count</th>\n",
       "      <td>10199.000000</td>\n",
       "      <td>10199.000000</td>\n",
       "      <td>10199.000000</td>\n",
       "      <td>10199.000000</td>\n",
       "      <td>10199.000000</td>\n",
       "      <td>10199.000000</td>\n",
       "      <td>10199.000000</td>\n",
       "      <td>10199.000000</td>\n",
       "      <td>10199.000000</td>\n",
       "      <td>10199.000000</td>\n",
       "      <td>10199.000000</td>\n",
       "      <td>10199.000000</td>\n",
       "      <td>10199.000000</td>\n",
       "      <td>10199.000000</td>\n",
       "      <td>10199.000000</td>\n",
       "      <td>10199.000000</td>\n",
       "    </tr>\n",
       "    <tr>\n",
       "      <th>mean</th>\n",
       "      <td>1763.715168</td>\n",
       "      <td>48.930385</td>\n",
       "      <td>1.753603</td>\n",
       "      <td>1.533190</td>\n",
       "      <td>0.483479</td>\n",
       "      <td>4.026179</td>\n",
       "      <td>2.201098</td>\n",
       "      <td>0.461908</td>\n",
       "      <td>0.335915</td>\n",
       "      <td>0.188842</td>\n",
       "      <td>0.013335</td>\n",
       "      <td>0.186391</td>\n",
       "      <td>0.187764</td>\n",
       "      <td>0.561526</td>\n",
       "      <td>0.034905</td>\n",
       "      <td>0.029415</td>\n",
       "    </tr>\n",
       "    <tr>\n",
       "      <th>std</th>\n",
       "      <td>1016.843757</td>\n",
       "      <td>25.204799</td>\n",
       "      <td>0.802147</td>\n",
       "      <td>0.931699</td>\n",
       "      <td>0.499751</td>\n",
       "      <td>10.745336</td>\n",
       "      <td>1.708754</td>\n",
       "      <td>0.498571</td>\n",
       "      <td>0.472333</td>\n",
       "      <td>0.391402</td>\n",
       "      <td>0.114709</td>\n",
       "      <td>0.389441</td>\n",
       "      <td>0.390542</td>\n",
       "      <td>0.496224</td>\n",
       "      <td>0.183549</td>\n",
       "      <td>0.168974</td>\n",
       "    </tr>\n",
       "    <tr>\n",
       "      <th>min</th>\n",
       "      <td>3.000000</td>\n",
       "      <td>1.000000</td>\n",
       "      <td>1.000000</td>\n",
       "      <td>0.000000</td>\n",
       "      <td>0.000000</td>\n",
       "      <td>-33.000000</td>\n",
       "      <td>0.000000</td>\n",
       "      <td>0.000000</td>\n",
       "      <td>0.000000</td>\n",
       "      <td>0.000000</td>\n",
       "      <td>0.000000</td>\n",
       "      <td>0.000000</td>\n",
       "      <td>0.000000</td>\n",
       "      <td>0.000000</td>\n",
       "      <td>0.000000</td>\n",
       "      <td>0.000000</td>\n",
       "    </tr>\n",
       "    <tr>\n",
       "      <th>25%</th>\n",
       "      <td>900.000000</td>\n",
       "      <td>29.000000</td>\n",
       "      <td>1.000000</td>\n",
       "      <td>1.000000</td>\n",
       "      <td>0.000000</td>\n",
       "      <td>-3.000000</td>\n",
       "      <td>1.000000</td>\n",
       "      <td>0.000000</td>\n",
       "      <td>0.000000</td>\n",
       "      <td>0.000000</td>\n",
       "      <td>0.000000</td>\n",
       "      <td>0.000000</td>\n",
       "      <td>0.000000</td>\n",
       "      <td>0.000000</td>\n",
       "      <td>0.000000</td>\n",
       "      <td>0.000000</td>\n",
       "    </tr>\n",
       "    <tr>\n",
       "      <th>50%</th>\n",
       "      <td>1800.000000</td>\n",
       "      <td>51.000000</td>\n",
       "      <td>2.000000</td>\n",
       "      <td>2.000000</td>\n",
       "      <td>0.000000</td>\n",
       "      <td>3.000000</td>\n",
       "      <td>2.000000</td>\n",
       "      <td>0.000000</td>\n",
       "      <td>0.000000</td>\n",
       "      <td>0.000000</td>\n",
       "      <td>0.000000</td>\n",
       "      <td>0.000000</td>\n",
       "      <td>0.000000</td>\n",
       "      <td>1.000000</td>\n",
       "      <td>0.000000</td>\n",
       "      <td>0.000000</td>\n",
       "    </tr>\n",
       "    <tr>\n",
       "      <th>75%</th>\n",
       "      <td>2625.000000</td>\n",
       "      <td>70.000000</td>\n",
       "      <td>2.000000</td>\n",
       "      <td>2.000000</td>\n",
       "      <td>1.000000</td>\n",
       "      <td>10.000000</td>\n",
       "      <td>4.000000</td>\n",
       "      <td>1.000000</td>\n",
       "      <td>1.000000</td>\n",
       "      <td>0.000000</td>\n",
       "      <td>0.000000</td>\n",
       "      <td>0.000000</td>\n",
       "      <td>0.000000</td>\n",
       "      <td>1.000000</td>\n",
       "      <td>0.000000</td>\n",
       "      <td>0.000000</td>\n",
       "    </tr>\n",
       "    <tr>\n",
       "      <th>max</th>\n",
       "      <td>3600.000000</td>\n",
       "      <td>99.000000</td>\n",
       "      <td>4.000000</td>\n",
       "      <td>4.000000</td>\n",
       "      <td>1.000000</td>\n",
       "      <td>59.000000</td>\n",
       "      <td>5.000000</td>\n",
       "      <td>1.000000</td>\n",
       "      <td>1.000000</td>\n",
       "      <td>1.000000</td>\n",
       "      <td>1.000000</td>\n",
       "      <td>1.000000</td>\n",
       "      <td>1.000000</td>\n",
       "      <td>1.000000</td>\n",
       "      <td>1.000000</td>\n",
       "      <td>1.000000</td>\n",
       "    </tr>\n",
       "  </tbody>\n",
       "</table>\n",
       "</div>"
      ],
      "text/plain": [
       "       game_seconds_remaining  yardline_100          down       ydstogo  \\\n",
       "count            10199.000000  10199.000000  10199.000000  10199.000000   \n",
       "mean              1763.715168     48.930385      1.753603      1.533190   \n",
       "std               1016.843757     25.204799      0.802147      0.931699   \n",
       "min                  3.000000      1.000000      1.000000      0.000000   \n",
       "25%                900.000000     29.000000      1.000000      1.000000   \n",
       "50%               1800.000000     51.000000      2.000000      2.000000   \n",
       "75%               2625.000000     70.000000      2.000000      2.000000   \n",
       "max               3600.000000     99.000000      4.000000      4.000000   \n",
       "\n",
       "            shotgun  score_differential  full_play_type_code      down_1.0  \\\n",
       "count  10199.000000        10199.000000         10199.000000  10199.000000   \n",
       "mean       0.483479            4.026179             2.201098      0.461908   \n",
       "std        0.499751           10.745336             1.708754      0.498571   \n",
       "min        0.000000          -33.000000             0.000000      0.000000   \n",
       "25%        0.000000           -3.000000             1.000000      0.000000   \n",
       "50%        0.000000            3.000000             2.000000      0.000000   \n",
       "75%        1.000000           10.000000             4.000000      1.000000   \n",
       "max        1.000000           59.000000             5.000000      1.000000   \n",
       "\n",
       "           down_2.0      down_3.0      down_4.0     ydstogo_0     ydstogo_1  \\\n",
       "count  10199.000000  10199.000000  10199.000000  10199.000000  10199.000000   \n",
       "mean       0.335915      0.188842      0.013335      0.186391      0.187764   \n",
       "std        0.472333      0.391402      0.114709      0.389441      0.390542   \n",
       "min        0.000000      0.000000      0.000000      0.000000      0.000000   \n",
       "25%        0.000000      0.000000      0.000000      0.000000      0.000000   \n",
       "50%        0.000000      0.000000      0.000000      0.000000      0.000000   \n",
       "75%        1.000000      0.000000      0.000000      0.000000      0.000000   \n",
       "max        1.000000      1.000000      1.000000      1.000000      1.000000   \n",
       "\n",
       "          ydstogo_2     ydstogo_3     ydstogo_4  \n",
       "count  10199.000000  10199.000000  10199.000000  \n",
       "mean       0.561526      0.034905      0.029415  \n",
       "std        0.496224      0.183549      0.168974  \n",
       "min        0.000000      0.000000      0.000000  \n",
       "25%        0.000000      0.000000      0.000000  \n",
       "50%        1.000000      0.000000      0.000000  \n",
       "75%        1.000000      0.000000      0.000000  \n",
       "max        1.000000      1.000000      1.000000  "
      ]
     },
     "execution_count": 12,
     "metadata": {},
     "output_type": "execute_result"
    }
   ],
   "source": [
    "nedf.describe()"
   ]
  },
  {
   "cell_type": "code",
   "execution_count": 14,
   "metadata": {},
   "outputs": [],
   "source": [
    "nedf['game_seconds_remaining']/=3600"
   ]
  },
  {
   "cell_type": "code",
   "execution_count": 16,
   "metadata": {},
   "outputs": [],
   "source": [
    "nedf['yardline_100']/=100\n",
    "nedf['score_differential']=(nedf['score_differential']+50)/100"
   ]
  },
  {
   "cell_type": "code",
   "execution_count": 17,
   "metadata": {},
   "outputs": [
    {
     "data": {
      "text/html": [
       "<div>\n",
       "<style scoped>\n",
       "    .dataframe tbody tr th:only-of-type {\n",
       "        vertical-align: middle;\n",
       "    }\n",
       "\n",
       "    .dataframe tbody tr th {\n",
       "        vertical-align: top;\n",
       "    }\n",
       "\n",
       "    .dataframe thead th {\n",
       "        text-align: right;\n",
       "    }\n",
       "</style>\n",
       "<table border=\"1\" class=\"dataframe\">\n",
       "  <thead>\n",
       "    <tr style=\"text-align: right;\">\n",
       "      <th></th>\n",
       "      <th>game_seconds_remaining</th>\n",
       "      <th>yardline_100</th>\n",
       "      <th>down</th>\n",
       "      <th>ydstogo</th>\n",
       "      <th>shotgun</th>\n",
       "      <th>score_differential</th>\n",
       "      <th>play_type</th>\n",
       "      <th>pass_length</th>\n",
       "      <th>pass_location</th>\n",
       "      <th>run_location</th>\n",
       "      <th>...</th>\n",
       "      <th>full_play_type_code</th>\n",
       "      <th>down_1.0</th>\n",
       "      <th>down_2.0</th>\n",
       "      <th>down_3.0</th>\n",
       "      <th>down_4.0</th>\n",
       "      <th>ydstogo_0</th>\n",
       "      <th>ydstogo_1</th>\n",
       "      <th>ydstogo_2</th>\n",
       "      <th>ydstogo_3</th>\n",
       "      <th>ydstogo_4</th>\n",
       "    </tr>\n",
       "  </thead>\n",
       "  <tbody>\n",
       "    <tr>\n",
       "      <th>2390</th>\n",
       "      <td>0.997778</td>\n",
       "      <td>0.49</td>\n",
       "      <td>1.0</td>\n",
       "      <td>2</td>\n",
       "      <td>0</td>\n",
       "      <td>0.5</td>\n",
       "      <td>pass</td>\n",
       "      <td>short</td>\n",
       "      <td>right</td>\n",
       "      <td>unknown</td>\n",
       "      <td>...</td>\n",
       "      <td>2</td>\n",
       "      <td>1</td>\n",
       "      <td>0</td>\n",
       "      <td>0</td>\n",
       "      <td>0</td>\n",
       "      <td>0</td>\n",
       "      <td>0</td>\n",
       "      <td>1</td>\n",
       "      <td>0</td>\n",
       "      <td>0</td>\n",
       "    </tr>\n",
       "    <tr>\n",
       "      <th>2391</th>\n",
       "      <td>0.996389</td>\n",
       "      <td>0.49</td>\n",
       "      <td>2.0</td>\n",
       "      <td>2</td>\n",
       "      <td>0</td>\n",
       "      <td>0.5</td>\n",
       "      <td>run</td>\n",
       "      <td>unknown</td>\n",
       "      <td>unknown</td>\n",
       "      <td>right</td>\n",
       "      <td>...</td>\n",
       "      <td>5</td>\n",
       "      <td>0</td>\n",
       "      <td>1</td>\n",
       "      <td>0</td>\n",
       "      <td>0</td>\n",
       "      <td>0</td>\n",
       "      <td>0</td>\n",
       "      <td>1</td>\n",
       "      <td>0</td>\n",
       "      <td>0</td>\n",
       "    </tr>\n",
       "    <tr>\n",
       "      <th>2392</th>\n",
       "      <td>0.984167</td>\n",
       "      <td>0.46</td>\n",
       "      <td>3.0</td>\n",
       "      <td>1</td>\n",
       "      <td>1</td>\n",
       "      <td>0.5</td>\n",
       "      <td>pass</td>\n",
       "      <td>short</td>\n",
       "      <td>middle</td>\n",
       "      <td>unknown</td>\n",
       "      <td>...</td>\n",
       "      <td>1</td>\n",
       "      <td>0</td>\n",
       "      <td>0</td>\n",
       "      <td>1</td>\n",
       "      <td>0</td>\n",
       "      <td>0</td>\n",
       "      <td>1</td>\n",
       "      <td>0</td>\n",
       "      <td>0</td>\n",
       "      <td>0</td>\n",
       "    </tr>\n",
       "    <tr>\n",
       "      <th>2393</th>\n",
       "      <td>0.977500</td>\n",
       "      <td>0.40</td>\n",
       "      <td>4.0</td>\n",
       "      <td>0</td>\n",
       "      <td>0</td>\n",
       "      <td>0.5</td>\n",
       "      <td>run</td>\n",
       "      <td>unknown</td>\n",
       "      <td>unknown</td>\n",
       "      <td>left</td>\n",
       "      <td>...</td>\n",
       "      <td>3</td>\n",
       "      <td>0</td>\n",
       "      <td>0</td>\n",
       "      <td>0</td>\n",
       "      <td>1</td>\n",
       "      <td>1</td>\n",
       "      <td>0</td>\n",
       "      <td>0</td>\n",
       "      <td>0</td>\n",
       "      <td>0</td>\n",
       "    </tr>\n",
       "    <tr>\n",
       "      <th>2399</th>\n",
       "      <td>0.953889</td>\n",
       "      <td>0.83</td>\n",
       "      <td>1.0</td>\n",
       "      <td>2</td>\n",
       "      <td>1</td>\n",
       "      <td>0.5</td>\n",
       "      <td>run</td>\n",
       "      <td>unknown</td>\n",
       "      <td>unknown</td>\n",
       "      <td>middle</td>\n",
       "      <td>...</td>\n",
       "      <td>4</td>\n",
       "      <td>1</td>\n",
       "      <td>0</td>\n",
       "      <td>0</td>\n",
       "      <td>0</td>\n",
       "      <td>0</td>\n",
       "      <td>0</td>\n",
       "      <td>1</td>\n",
       "      <td>0</td>\n",
       "      <td>0</td>\n",
       "    </tr>\n",
       "  </tbody>\n",
       "</table>\n",
       "<p>5 rows × 21 columns</p>\n",
       "</div>"
      ],
      "text/plain": [
       "      game_seconds_remaining  yardline_100  down  ydstogo  shotgun  \\\n",
       "2390                0.997778          0.49   1.0        2        0   \n",
       "2391                0.996389          0.49   2.0        2        0   \n",
       "2392                0.984167          0.46   3.0        1        1   \n",
       "2393                0.977500          0.40   4.0        0        0   \n",
       "2399                0.953889          0.83   1.0        2        1   \n",
       "\n",
       "      score_differential play_type pass_length pass_location run_location  \\\n",
       "2390                 0.5      pass       short         right      unknown   \n",
       "2391                 0.5       run     unknown       unknown        right   \n",
       "2392                 0.5      pass       short        middle      unknown   \n",
       "2393                 0.5       run     unknown       unknown         left   \n",
       "2399                 0.5       run     unknown       unknown       middle   \n",
       "\n",
       "        ...     full_play_type_code  down_1.0  down_2.0  down_3.0  down_4.0  \\\n",
       "2390    ...                       2         1         0         0         0   \n",
       "2391    ...                       5         0         1         0         0   \n",
       "2392    ...                       1         0         0         1         0   \n",
       "2393    ...                       3         0         0         0         1   \n",
       "2399    ...                       4         1         0         0         0   \n",
       "\n",
       "      ydstogo_0  ydstogo_1  ydstogo_2  ydstogo_3  ydstogo_4  \n",
       "2390          0          0          1          0          0  \n",
       "2391          0          0          1          0          0  \n",
       "2392          0          1          0          0          0  \n",
       "2393          1          0          0          0          0  \n",
       "2399          0          0          1          0          0  \n",
       "\n",
       "[5 rows x 21 columns]"
      ]
     },
     "execution_count": 17,
     "metadata": {},
     "output_type": "execute_result"
    }
   ],
   "source": [
    "nedf.head()"
   ]
  },
  {
   "cell_type": "code",
   "execution_count": 18,
   "metadata": {},
   "outputs": [],
   "source": [
    "X=nedf[['yardline_100', 'shotgun', 'score_differential', 'game_seconds_remaining', 'down_1.0', 'down_2.0', 'down_3.0', 'down_4.0','ydstogo_0','ydstogo_1','ydstogo_2','ydstogo_3','ydstogo_4']]"
   ]
  },
  {
   "cell_type": "code",
   "execution_count": 19,
   "metadata": {},
   "outputs": [
    {
     "data": {
      "text/html": [
       "<div>\n",
       "<style scoped>\n",
       "    .dataframe tbody tr th:only-of-type {\n",
       "        vertical-align: middle;\n",
       "    }\n",
       "\n",
       "    .dataframe tbody tr th {\n",
       "        vertical-align: top;\n",
       "    }\n",
       "\n",
       "    .dataframe thead th {\n",
       "        text-align: right;\n",
       "    }\n",
       "</style>\n",
       "<table border=\"1\" class=\"dataframe\">\n",
       "  <thead>\n",
       "    <tr style=\"text-align: right;\">\n",
       "      <th></th>\n",
       "      <th>yardline_100</th>\n",
       "      <th>shotgun</th>\n",
       "      <th>score_differential</th>\n",
       "      <th>game_seconds_remaining</th>\n",
       "      <th>down_1.0</th>\n",
       "      <th>down_2.0</th>\n",
       "      <th>down_3.0</th>\n",
       "      <th>down_4.0</th>\n",
       "      <th>ydstogo_0</th>\n",
       "      <th>ydstogo_1</th>\n",
       "      <th>ydstogo_2</th>\n",
       "      <th>ydstogo_3</th>\n",
       "      <th>ydstogo_4</th>\n",
       "    </tr>\n",
       "  </thead>\n",
       "  <tbody>\n",
       "    <tr>\n",
       "      <th>2390</th>\n",
       "      <td>0.49</td>\n",
       "      <td>0</td>\n",
       "      <td>0.5</td>\n",
       "      <td>0.997778</td>\n",
       "      <td>1</td>\n",
       "      <td>0</td>\n",
       "      <td>0</td>\n",
       "      <td>0</td>\n",
       "      <td>0</td>\n",
       "      <td>0</td>\n",
       "      <td>1</td>\n",
       "      <td>0</td>\n",
       "      <td>0</td>\n",
       "    </tr>\n",
       "    <tr>\n",
       "      <th>2391</th>\n",
       "      <td>0.49</td>\n",
       "      <td>0</td>\n",
       "      <td>0.5</td>\n",
       "      <td>0.996389</td>\n",
       "      <td>0</td>\n",
       "      <td>1</td>\n",
       "      <td>0</td>\n",
       "      <td>0</td>\n",
       "      <td>0</td>\n",
       "      <td>0</td>\n",
       "      <td>1</td>\n",
       "      <td>0</td>\n",
       "      <td>0</td>\n",
       "    </tr>\n",
       "    <tr>\n",
       "      <th>2392</th>\n",
       "      <td>0.46</td>\n",
       "      <td>1</td>\n",
       "      <td>0.5</td>\n",
       "      <td>0.984167</td>\n",
       "      <td>0</td>\n",
       "      <td>0</td>\n",
       "      <td>1</td>\n",
       "      <td>0</td>\n",
       "      <td>0</td>\n",
       "      <td>1</td>\n",
       "      <td>0</td>\n",
       "      <td>0</td>\n",
       "      <td>0</td>\n",
       "    </tr>\n",
       "    <tr>\n",
       "      <th>2393</th>\n",
       "      <td>0.40</td>\n",
       "      <td>0</td>\n",
       "      <td>0.5</td>\n",
       "      <td>0.977500</td>\n",
       "      <td>0</td>\n",
       "      <td>0</td>\n",
       "      <td>0</td>\n",
       "      <td>1</td>\n",
       "      <td>1</td>\n",
       "      <td>0</td>\n",
       "      <td>0</td>\n",
       "      <td>0</td>\n",
       "      <td>0</td>\n",
       "    </tr>\n",
       "    <tr>\n",
       "      <th>2399</th>\n",
       "      <td>0.83</td>\n",
       "      <td>1</td>\n",
       "      <td>0.5</td>\n",
       "      <td>0.953889</td>\n",
       "      <td>1</td>\n",
       "      <td>0</td>\n",
       "      <td>0</td>\n",
       "      <td>0</td>\n",
       "      <td>0</td>\n",
       "      <td>0</td>\n",
       "      <td>1</td>\n",
       "      <td>0</td>\n",
       "      <td>0</td>\n",
       "    </tr>\n",
       "  </tbody>\n",
       "</table>\n",
       "</div>"
      ],
      "text/plain": [
       "      yardline_100  shotgun  score_differential  game_seconds_remaining  \\\n",
       "2390          0.49        0                 0.5                0.997778   \n",
       "2391          0.49        0                 0.5                0.996389   \n",
       "2392          0.46        1                 0.5                0.984167   \n",
       "2393          0.40        0                 0.5                0.977500   \n",
       "2399          0.83        1                 0.5                0.953889   \n",
       "\n",
       "      down_1.0  down_2.0  down_3.0  down_4.0  ydstogo_0  ydstogo_1  ydstogo_2  \\\n",
       "2390         1         0         0         0          0          0          1   \n",
       "2391         0         1         0         0          0          0          1   \n",
       "2392         0         0         1         0          0          1          0   \n",
       "2393         0         0         0         1          1          0          0   \n",
       "2399         1         0         0         0          0          0          1   \n",
       "\n",
       "      ydstogo_3  ydstogo_4  \n",
       "2390          0          0  \n",
       "2391          0          0  \n",
       "2392          0          0  \n",
       "2393          0          0  \n",
       "2399          0          0  "
      ]
     },
     "execution_count": 19,
     "metadata": {},
     "output_type": "execute_result"
    }
   ],
   "source": [
    "X.head()"
   ]
  },
  {
   "cell_type": "code",
   "execution_count": 20,
   "metadata": {},
   "outputs": [],
   "source": [
    "Y=nedf['full_play_type_code']"
   ]
  },
  {
   "cell_type": "code",
   "execution_count": 21,
   "metadata": {},
   "outputs": [
    {
     "data": {
      "text/plain": [
       "2390    2\n",
       "2391    5\n",
       "2392    1\n",
       "2393    3\n",
       "2399    4\n",
       "Name: full_play_type_code, dtype: int64"
      ]
     },
     "execution_count": 21,
     "metadata": {},
     "output_type": "execute_result"
    }
   ],
   "source": [
    "Y.head()"
   ]
  },
  {
   "cell_type": "code",
   "execution_count": 22,
   "metadata": {},
   "outputs": [],
   "source": [
    "train_x, test_x, train_y, test_y = model_selection.train_test_split(X, Y, random_state = 0)"
   ]
  },
  {
   "cell_type": "code",
   "execution_count": 23,
   "metadata": {},
   "outputs": [],
   "source": [
    "from sklearn.model_selection import train_test_split\n",
    "from sklearn.preprocessing import StandardScaler\n",
    "from sklearn.neural_network import MLPClassifier\n",
    "from sklearn.neighbors import KNeighborsClassifier\n",
    "from sklearn.svm import SVC\n",
    "from sklearn.gaussian_process import GaussianProcessClassifier\n",
    "from sklearn.gaussian_process.kernels import RBF\n",
    "from sklearn.tree import DecisionTreeClassifier\n",
    "from sklearn.ensemble import RandomForestClassifier, AdaBoostClassifier, GradientBoostingClassifier\n",
    "from sklearn.naive_bayes import GaussianNB\n"
   ]
  },
  {
   "cell_type": "code",
   "execution_count": null,
   "metadata": {},
   "outputs": [],
   "source": [
    "from sklearn.model_selection import cross_val_score\n",
    "\n",
    "names = [\"Nearest Neighbors\", \"Linear SVM\", \"RBF SVM\",\n",
    "         \"Decision Tree\", \"Random Forest\", \"Neural Net\", \"AdaBoost\",\n",
    "         \"Naive Bayes\", \"GBC\"]\n",
    "\n",
    "classifiers = [\n",
    "    KNeighborsClassifier(12),\n",
    "    SVC(kernel=\"linear\", C=0.025),\n",
    "    SVC(gamma=2, C=1),\n",
    "    DecisionTreeClassifier(max_depth=64),\n",
    "    RandomForestClassifier(max_depth=8, n_estimators=64),\n",
    "    MLPClassifier(alpha=1,hidden_layer_sizes=(64),\n",
    "                   activation='tanh',\n",
    "                   solver='lbfgs',\n",
    "                   max_iter=200),\n",
    "    AdaBoostClassifier(),\n",
    "    GaussianNB(),\n",
    "    GradientBoostingClassifier()\n",
    "]\n",
    "for name, clf in zip(names, classifiers):\n",
    "    clf.fit(train_x, train_y)\n",
    "    #score = cross_val_score(clf, test_x, test_y, scoring='f1_weighted',cv=5)  \n",
    "    \n",
    "    score = clf.score(test_x, test_y)\n",
    "    print('{}:{}'.format(name, score))    "
   ]
  },
  {
   "cell_type": "code",
   "execution_count": 24,
   "metadata": {},
   "outputs": [
    {
     "data": {
      "text/plain": [
       "RandomForestClassifier(bootstrap=True, class_weight=None, criterion='gini',\n",
       "            max_depth=8, max_features='auto', max_leaf_nodes=None,\n",
       "            min_impurity_decrease=0.0, min_impurity_split=None,\n",
       "            min_samples_leaf=1, min_samples_split=2,\n",
       "            min_weight_fraction_leaf=0.0, n_estimators=64, n_jobs=None,\n",
       "            oob_score=False, random_state=None, verbose=0,\n",
       "            warm_start=False)"
      ]
     },
     "execution_count": 24,
     "metadata": {},
     "output_type": "execute_result"
    }
   ],
   "source": [
    "#the_clf = DecisionTreeClassifier(max_depth=3)\n",
    "#the_clf = MLPClassifier(alpha=1,hidden_layer_sizes=(50),\n",
    "#                   activation='tanh',\n",
    "#                   solver='lbfgs',\n",
    "#                   max_iter=250)\n",
    "\n",
    "#the_clf=AdaBoostClassifier()\n",
    "#the_clf = DecisionTreeClassifier(max_depth=12)\n",
    "the_clf=RandomForestClassifier(max_depth=8, n_estimators=64)\n",
    "the_clf.fit(train_x, train_y)"
   ]
  },
  {
   "cell_type": "code",
   "execution_count": 25,
   "metadata": {},
   "outputs": [],
   "source": [
    "from sklearn.metrics import accuracy_score\n",
    "pred = the_clf.predict(test_x)\n",
    "acc =accuracy_score(test_y, pred)"
   ]
  },
  {
   "cell_type": "code",
   "execution_count": 26,
   "metadata": {},
   "outputs": [
    {
     "name": "stdout",
     "output_type": "stream",
     "text": [
      "0.31176470588235294\n"
     ]
    }
   ],
   "source": [
    "print(acc)"
   ]
  },
  {
   "cell_type": "code",
   "execution_count": 27,
   "metadata": {},
   "outputs": [
    {
     "data": {
      "text/plain": [
       "<matplotlib.axes._subplots.AxesSubplot at 0x7ff03ffed438>"
      ]
     },
     "execution_count": 27,
     "metadata": {},
     "output_type": "execute_result"
    },
    {
     "data": {
      "image/png": "[encoded data removed]",
      "text/plain": [
       "<Figure size 864x648 with 2 Axes>"
      ]
     },
     "metadata": {
      "needs_background": "light"
     },
     "output_type": "display_data"
    }
   ],
   "source": [
    "from sklearn.metrics import confusion_matrix\n",
    "from sklearn.utils.multiclass import unique_labels\n",
    "import seaborn as sn\n",
    "import matplotlib.pyplot as plt\n",
    "\n",
    "cm = confusion_matrix(test_y, pred)\n",
    "\n",
    "df_cm = pd.DataFrame(cm, index = [i for i in list(le.classes_)],\n",
    "                  columns = [i for i in list(le.classes_)])\n",
    "plt.figure(figsize = (12,9))\n",
    "sn.heatmap(df_cm, annot=True, cmap='Blues', fmt='g')\n",
    "\n"
   ]
  },
  {
   "cell_type": "code",
   "execution_count": 28,
   "metadata": {},
   "outputs": [
    {
     "name": "stdout",
     "output_type": "stream",
     "text": [
      "0.29411764705882354\n"
     ]
    }
   ],
   "source": [
    "#the_clf = DecisionTreeClassifier(max_depth=3)\n",
    "#the_clf = MLPClassifier(alpha=1,hidden_layer_sizes=(50),\n",
    "#                   activation='tanh',\n",
    "#                   solver='lbfgs',\n",
    "#                   max_iter=250)\n",
    "\n",
    "the_clf=AdaBoostClassifier()\n",
    "#the_clf = DecisionTreeClassifier(max_depth=12)\n",
    "#the_clf=RandomForestClassifier(max_depth=12, n_estimators=30)\n",
    "the_clf.fit(train_x, train_y)\n",
    "\n",
    "from sklearn.metrics import accuracy_score\n",
    "pred = the_clf.predict(test_x)\n",
    "acc =accuracy_score(test_y, pred)\n",
    "\n",
    "print(acc)"
   ]
  },
  {
   "cell_type": "code",
   "execution_count": 29,
   "metadata": {},
   "outputs": [
    {
     "data": {
      "text/plain": [
       "<matplotlib.axes._subplots.AxesSubplot at 0x7ff047b69208>"
      ]
     },
     "execution_count": 29,
     "metadata": {},
     "output_type": "execute_result"
    },
    {
     "data": {
      "image/png": "[encoded data removed]",
      "text/plain": [
       "<Figure size 864x648 with 2 Axes>"
      ]
     },
     "metadata": {
      "needs_background": "light"
     },
     "output_type": "display_data"
    }
   ],
   "source": [
    "from sklearn.metrics import confusion_matrix\n",
    "from sklearn.utils.multiclass import unique_labels\n",
    "import seaborn as sn\n",
    "import matplotlib.pyplot as plt\n",
    "\n",
    "cm = confusion_matrix(test_y, pred)\n",
    "\n",
    "df_cm = pd.DataFrame(cm, index = [i for i in list(le.classes_)],\n",
    "                  columns = [i for i in list(le.classes_)])\n",
    "plt.figure(figsize = (12,9))\n",
    "sn.heatmap(df_cm, annot=True, cmap='Blues', fmt='g')\n",
    "\n"
   ]
  },
  {
   "cell_type": "code",
   "execution_count": 30,
   "metadata": {},
   "outputs": [
    {
     "name": "stdout",
     "output_type": "stream",
     "text": [
      "0.2937254901960784\n"
     ]
    }
   ],
   "source": [
    " #GradientBoostingClassifier()\n",
    "    \n",
    "the_clf= GradientBoostingClassifier()\n",
    "the_clf.fit(train_x, train_y)\n",
    "\n",
    "from sklearn.metrics import accuracy_score\n",
    "pred = the_clf.predict(test_x)\n",
    "acc =accuracy_score(test_y, pred)\n",
    "\n",
    "print(acc)"
   ]
  },
  {
   "cell_type": "code",
   "execution_count": 31,
   "metadata": {},
   "outputs": [
    {
     "data": {
      "text/plain": [
       "<matplotlib.axes._subplots.AxesSubplot at 0x7ff03f691ef0>"
      ]
     },
     "execution_count": 31,
     "metadata": {},
     "output_type": "execute_result"
    },
    {
     "data": {
      "image/png": "[encoded data removed]",
      "text/plain": [
       "<Figure size 864x648 with 2 Axes>"
      ]
     },
     "metadata": {
      "needs_background": "light"
     },
     "output_type": "display_data"
    }
   ],
   "source": [
    "from sklearn.metrics import confusion_matrix\n",
    "from sklearn.utils.multiclass import unique_labels\n",
    "import seaborn as sn\n",
    "import matplotlib.pyplot as plt\n",
    "\n",
    "cm = confusion_matrix(test_y, pred)\n",
    "\n",
    "df_cm = pd.DataFrame(cm, index = [i for i in list(le.classes_)],\n",
    "                  columns = [i for i in list(le.classes_)])\n",
    "plt.figure(figsize = (12,9))\n",
    "sn.heatmap(df_cm, annot=True, cmap='Blues', fmt='g')\n"
   ]
  },
  {
   "cell_type": "code",
   "execution_count": null,
   "metadata": {},
   "outputs": [],
   "source": []
  }
 ],
 "metadata": {
  "kernelspec": {
   "display_name": "Python 3",
   "language": "python",
   "name": "python3"
  },
  "language_info": {
   "codemirror_mode": {
    "name": "ipython",
    "version": 3
   },
   "file_extension": ".py",
   "mimetype": "text/x-python",
   "name": "python",
   "nbconvert_exporter": "python",
   "pygments_lexer": "ipython3",
   "version": "3.6.5"
  }
 },
 "nbformat": 4,
 "nbformat_minor": 2
}
